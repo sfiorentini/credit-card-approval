{
  "nbformat": 4,
  "nbformat_minor": 0,
  "metadata": {
    "colab": {
      "provenance": []
    },
    "kernelspec": {
      "name": "python3",
      "display_name": "Python 3"
    },
    "language_info": {
      "name": "python"
    }
  },
  "cells": [
    {
      "cell_type": "code",
      "execution_count": 21,
      "metadata": {
        "id": "3sTD-JO9J2mo"
      },
      "outputs": [],
      "source": [
        "import pandas as pd\n",
        "\n",
        "application_df = pd.read_csv(\"application_record.csv\")\n",
        "credit_df = pd.read_csv(\"credit_record.csv\")"
      ]
    },
    {
      "cell_type": "code",
      "source": [
        "credit_df.isnull().sum()"
      ],
      "metadata": {
        "colab": {
          "base_uri": "https://localhost:8080/",
          "height": 178
        },
        "id": "pDyPnfLBKCx6",
        "outputId": "95ac8744-5dbb-4f44-fa35-c8fe4cdcbc90"
      },
      "execution_count": 22,
      "outputs": [
        {
          "output_type": "execute_result",
          "data": {
            "text/plain": [
              "ID                0\n",
              "MONTHS_BALANCE    0\n",
              "STATUS            0\n",
              "dtype: int64"
            ],
            "text/html": [
              "<div>\n",
              "<style scoped>\n",
              "    .dataframe tbody tr th:only-of-type {\n",
              "        vertical-align: middle;\n",
              "    }\n",
              "\n",
              "    .dataframe tbody tr th {\n",
              "        vertical-align: top;\n",
              "    }\n",
              "\n",
              "    .dataframe thead th {\n",
              "        text-align: right;\n",
              "    }\n",
              "</style>\n",
              "<table border=\"1\" class=\"dataframe\">\n",
              "  <thead>\n",
              "    <tr style=\"text-align: right;\">\n",
              "      <th></th>\n",
              "      <th>0</th>\n",
              "    </tr>\n",
              "  </thead>\n",
              "  <tbody>\n",
              "    <tr>\n",
              "      <th>ID</th>\n",
              "      <td>0</td>\n",
              "    </tr>\n",
              "    <tr>\n",
              "      <th>MONTHS_BALANCE</th>\n",
              "      <td>0</td>\n",
              "    </tr>\n",
              "    <tr>\n",
              "      <th>STATUS</th>\n",
              "      <td>0</td>\n",
              "    </tr>\n",
              "  </tbody>\n",
              "</table>\n",
              "</div><br><label><b>dtype:</b> int64</label>"
            ]
          },
          "metadata": {},
          "execution_count": 22
        }
      ]
    },
    {
      "cell_type": "code",
      "source": [
        "application_df.isnull().sum()\n",
        "\n"
      ],
      "metadata": {
        "colab": {
          "base_uri": "https://localhost:8080/",
          "height": 649
        },
        "id": "OTVaof-xL0e7",
        "outputId": "f0278432-d0c9-4eaf-d0c1-1be9dd5b53fc"
      },
      "execution_count": 23,
      "outputs": [
        {
          "output_type": "execute_result",
          "data": {
            "text/plain": [
              "ID                        0\n",
              "CODE_GENDER               0\n",
              "FLAG_OWN_CAR              0\n",
              "FLAG_OWN_REALTY           0\n",
              "CNT_CHILDREN              0\n",
              "AMT_INCOME_TOTAL          0\n",
              "NAME_INCOME_TYPE          0\n",
              "NAME_EDUCATION_TYPE       0\n",
              "NAME_FAMILY_STATUS        1\n",
              "NAME_HOUSING_TYPE         1\n",
              "DAYS_BIRTH                1\n",
              "DAYS_EMPLOYED             1\n",
              "FLAG_MOBIL                1\n",
              "FLAG_WORK_PHONE           1\n",
              "FLAG_PHONE                1\n",
              "FLAG_EMAIL                1\n",
              "OCCUPATION_TYPE        2591\n",
              "CNT_FAM_MEMBERS           1\n",
              "dtype: int64"
            ],
            "text/html": [
              "<div>\n",
              "<style scoped>\n",
              "    .dataframe tbody tr th:only-of-type {\n",
              "        vertical-align: middle;\n",
              "    }\n",
              "\n",
              "    .dataframe tbody tr th {\n",
              "        vertical-align: top;\n",
              "    }\n",
              "\n",
              "    .dataframe thead th {\n",
              "        text-align: right;\n",
              "    }\n",
              "</style>\n",
              "<table border=\"1\" class=\"dataframe\">\n",
              "  <thead>\n",
              "    <tr style=\"text-align: right;\">\n",
              "      <th></th>\n",
              "      <th>0</th>\n",
              "    </tr>\n",
              "  </thead>\n",
              "  <tbody>\n",
              "    <tr>\n",
              "      <th>ID</th>\n",
              "      <td>0</td>\n",
              "    </tr>\n",
              "    <tr>\n",
              "      <th>CODE_GENDER</th>\n",
              "      <td>0</td>\n",
              "    </tr>\n",
              "    <tr>\n",
              "      <th>FLAG_OWN_CAR</th>\n",
              "      <td>0</td>\n",
              "    </tr>\n",
              "    <tr>\n",
              "      <th>FLAG_OWN_REALTY</th>\n",
              "      <td>0</td>\n",
              "    </tr>\n",
              "    <tr>\n",
              "      <th>CNT_CHILDREN</th>\n",
              "      <td>0</td>\n",
              "    </tr>\n",
              "    <tr>\n",
              "      <th>AMT_INCOME_TOTAL</th>\n",
              "      <td>0</td>\n",
              "    </tr>\n",
              "    <tr>\n",
              "      <th>NAME_INCOME_TYPE</th>\n",
              "      <td>0</td>\n",
              "    </tr>\n",
              "    <tr>\n",
              "      <th>NAME_EDUCATION_TYPE</th>\n",
              "      <td>0</td>\n",
              "    </tr>\n",
              "    <tr>\n",
              "      <th>NAME_FAMILY_STATUS</th>\n",
              "      <td>1</td>\n",
              "    </tr>\n",
              "    <tr>\n",
              "      <th>NAME_HOUSING_TYPE</th>\n",
              "      <td>1</td>\n",
              "    </tr>\n",
              "    <tr>\n",
              "      <th>DAYS_BIRTH</th>\n",
              "      <td>1</td>\n",
              "    </tr>\n",
              "    <tr>\n",
              "      <th>DAYS_EMPLOYED</th>\n",
              "      <td>1</td>\n",
              "    </tr>\n",
              "    <tr>\n",
              "      <th>FLAG_MOBIL</th>\n",
              "      <td>1</td>\n",
              "    </tr>\n",
              "    <tr>\n",
              "      <th>FLAG_WORK_PHONE</th>\n",
              "      <td>1</td>\n",
              "    </tr>\n",
              "    <tr>\n",
              "      <th>FLAG_PHONE</th>\n",
              "      <td>1</td>\n",
              "    </tr>\n",
              "    <tr>\n",
              "      <th>FLAG_EMAIL</th>\n",
              "      <td>1</td>\n",
              "    </tr>\n",
              "    <tr>\n",
              "      <th>OCCUPATION_TYPE</th>\n",
              "      <td>2591</td>\n",
              "    </tr>\n",
              "    <tr>\n",
              "      <th>CNT_FAM_MEMBERS</th>\n",
              "      <td>1</td>\n",
              "    </tr>\n",
              "  </tbody>\n",
              "</table>\n",
              "</div><br><label><b>dtype:</b> int64</label>"
            ]
          },
          "metadata": {},
          "execution_count": 23
        }
      ]
    },
    {
      "cell_type": "markdown",
      "source": [
        "## 1. Combine Both Datasets with a meaningful way\n",
        "### combine and **transform**"
      ],
      "metadata": {
        "id": "_hYmG0GLMID5"
      }
    },
    {
      "cell_type": "code",
      "source": [
        "# transform columns days_birth and days_employed\n",
        "application_df['AGE_YEARS'] = round(abs(application_df['DAYS_BIRTH']) / 365, 1)\n",
        "application_df['YEARS_EMPLOYED'] = round(abs(application_df['DAYS_EMPLOYED']) / 365, 1)"
      ],
      "metadata": {
        "id": "SX4r9Un0MFBw"
      },
      "execution_count": null,
      "outputs": []
    },
    {
      "cell_type": "code",
      "source": [
        "application_df['DAYS_BIRTH'].isna().sum()"
      ],
      "metadata": {
        "id": "eE3C97j8MK0m"
      },
      "execution_count": null,
      "outputs": []
    },
    {
      "cell_type": "code",
      "source": [
        "# verify if there are oultiers\n",
        "\n",
        "# Count the number of values greater than 50 in the 'YEARS_EMPLOYED' column\n",
        "count_greater_than_50 = (application_df['YEARS_EMPLOYED'] > 50).sum()\n",
        "\n",
        "print(f\"Number of values greater than 50 in YEARS_EMPLOYED: {count_greater_than_50}\")"
      ],
      "metadata": {
        "id": "JZTI_gnLMNYz"
      },
      "execution_count": null,
      "outputs": []
    },
    {
      "cell_type": "code",
      "source": [
        "# manage outliers in year worked category: replace for Nan\n",
        "\n",
        "import numpy as np\n",
        "\n",
        "application_df['YEARS_EMPLOYED'] = np.where(\n",
        "    application_df['YEARS_EMPLOYED'] > 50,  # Umbral\n",
        "    np.nan,\n",
        "    application_df['YEARS_EMPLOYED']\n",
        ")"
      ],
      "metadata": {
        "id": "m1BmnzdrM3od"
      },
      "execution_count": null,
      "outputs": []
    },
    {
      "cell_type": "code",
      "source": [
        "# transforming credit record (since has multiple records per id)\n",
        "\n",
        "# calculate the worst status of historic paid for each id\n",
        "\n",
        "# --- Define function to calculate worst payment status ---\n",
        "def get_credit_status(credit_df):\n",
        "    status_map = {\n",
        "        'C': -1,  # Paid\n",
        "        '0': 0,   # 1-29 days overdue\n",
        "        '2': 2,   # 60-89 days\n",
        "        '3': 3,   # 90-119 days\n",
        "        '4': 4,   # 120-149 days\n",
        "        '5': 5    # 150+ days or not paid\n",
        "    }\n",
        "    credit_df['STATUS_NUM'] = credit_df['STATUS'].map(status_map)\n",
        "    worst_status = credit_df.groupby('ID')['STATUS_NUM'].max().reset_index()\n",
        "    worst_status.columns = ['ID', 'WORST_STATUS']\n",
        "    return worst_status\n",
        "\n",
        "# --- Apply the function ---\n",
        "credit_metrics = get_credit_status(credit_df)\n",
        "\n",
        "# --- Merge with application data ---\n",
        "merged_data = pd.merge(\n",
        "    application_df,\n",
        "    credit_metrics,\n",
        "    on='ID',\n",
        "    how='left'\n",
        ")\n",
        "\n",
        "# --- Handle missing credit history ---\n",
        "merged_data['WORST_STATUS'] = merged_data['WORST_STATUS'].fillna(-2)  # -2 = No history\n",
        "merged_data['HAS_CREDIT_HISTORY'] = merged_data['WORST_STATUS'].ne(-2).astype(int)\n"
      ],
      "metadata": {
        "id": "kb6mOlDMNTTx"
      },
      "execution_count": 15,
      "outputs": []
    },
    {
      "cell_type": "code",
      "source": [
        "print(merged_data.isnull().sum())"
      ],
      "metadata": {
        "colab": {
          "base_uri": "https://localhost:8080/"
        },
        "id": "PJdw0WLINX6B",
        "outputId": "d22068ef-ab43-4768-8313-54e761cc3ae4"
      },
      "execution_count": 16,
      "outputs": [
        {
          "output_type": "stream",
          "name": "stdout",
          "text": [
            "ID                        0\n",
            "CODE_GENDER               0\n",
            "FLAG_OWN_CAR              0\n",
            "FLAG_OWN_REALTY           0\n",
            "CNT_CHILDREN              0\n",
            "AMT_INCOME_TOTAL          0\n",
            "NAME_INCOME_TYPE          0\n",
            "NAME_EDUCATION_TYPE       0\n",
            "NAME_FAMILY_STATUS        1\n",
            "NAME_HOUSING_TYPE         1\n",
            "DAYS_BIRTH                1\n",
            "DAYS_EMPLOYED             1\n",
            "FLAG_MOBIL                1\n",
            "FLAG_WORK_PHONE           1\n",
            "FLAG_PHONE                1\n",
            "FLAG_EMAIL                1\n",
            "OCCUPATION_TYPE        2591\n",
            "CNT_FAM_MEMBERS           1\n",
            "AGE_YEARS                 1\n",
            "YEARS_EMPLOYED         1537\n",
            "WORST_STATUS              0\n",
            "HAS_CREDIT_HISTORY        0\n",
            "dtype: int64\n"
          ]
        }
      ]
    },
    {
      "cell_type": "code",
      "source": [
        "merged_data['FLAG_OWN_CAR'] = merged_data['FLAG_OWN_CAR'].replace({'Y': 1, 'N': 0})\n",
        "merged_data['FLAG_OWN_REALTY'] = merged_data['FLAG_OWN_REALTY'].replace({'Y': 1, 'N': 0})"
      ],
      "metadata": {
        "colab": {
          "base_uri": "https://localhost:8080/"
        },
        "id": "vE46Cb7BuFWG",
        "outputId": "4fcbec1f-9232-4d11-ad73-497d77be7992"
      },
      "execution_count": 20,
      "outputs": [
        {
          "output_type": "stream",
          "name": "stderr",
          "text": [
            "<ipython-input-20-df72f0fc14b3>:1: FutureWarning: Downcasting behavior in `replace` is deprecated and will be removed in a future version. To retain the old behavior, explicitly call `result.infer_objects(copy=False)`. To opt-in to the future behavior, set `pd.set_option('future.no_silent_downcasting', True)`\n",
            "  merged_data['FLAG_OWN_CAR'] = merged_data['FLAG_OWN_CAR'].replace({'Y': 1, 'N': 0})\n",
            "<ipython-input-20-df72f0fc14b3>:2: FutureWarning: Downcasting behavior in `replace` is deprecated and will be removed in a future version. To retain the old behavior, explicitly call `result.infer_objects(copy=False)`. To opt-in to the future behavior, set `pd.set_option('future.no_silent_downcasting', True)`\n",
            "  merged_data['FLAG_OWN_REALTY'] = merged_data['FLAG_OWN_REALTY'].replace({'Y': 1, 'N': 0})\n"
          ]
        }
      ]
    },
    {
      "cell_type": "code",
      "source": [
        "# replace null with category unknown\n",
        "merged_data[\"OCCUPATION_TYPE\"] = merged_data['OCCUPATION_TYPE'].fillna(\"Unknown\")"
      ],
      "metadata": {
        "id": "ywa2PbVjNdU0"
      },
      "execution_count": null,
      "outputs": []
    },
    {
      "cell_type": "code",
      "source": [
        "# analyze if unknown category has correlated name education, income, family status, education, own realty or age:\n",
        "unknown_subset = merged_data[merged_data['OCCUPATION_TYPE'] == 'Unknown']\n",
        "print(unknown_subset[[\"NAME_EDUCATION_TYPE\", \"AGE_YEARS\", \"AMT_INCOME_TOTAL\", \"NAME_EDUCATION_TYPE\", \"NAME_FAMILY_STATUS\", \"FLAG_OWN_REALTY\"]].describe(include='all'))"
      ],
      "metadata": {
        "id": "Ry1n91KLNiTE"
      },
      "execution_count": null,
      "outputs": []
    },
    {
      "cell_type": "code",
      "source": [
        "\n",
        "print(merged_data['OCCUPATION_TYPE'].value_counts(normalize=True))"
      ],
      "metadata": {
        "id": "0kD2An4ONix2"
      },
      "execution_count": null,
      "outputs": []
    },
    {
      "cell_type": "code",
      "source": [
        "# occupation type Unknown is 30% of total so I need to analyze how to fill in\n",
        "# Assign Occupations Based on 3 levels:\n",
        "def impute_occupation(row):\n",
        "    if row['OCCUPATION_TYPE'] != 'Unknown':\n",
        "        return row['OCCUPATION_TYPE']\n",
        "\n",
        "    # Level 1: based on education + income + familiar status\n",
        "    if row['NAME_EDUCATION_TYPE'] == 'Higher education':\n",
        "        if row['AMT_INCOME_TOTAL'] > 200000:\n",
        "            if row['NAME_FAMILY_STATUS'] in ['Married', 'Civil marriage']:\n",
        "                return 'Managers'\n",
        "            else:\n",
        "                return 'Core Staff'  # single with high incomes but less probability to be managers\n",
        "\n",
        "    # level 2: education + house owners\n",
        "    elif row['NAME_EDUCATION_TYPE'] == 'Secondary / secondary special':\n",
        "        if row['FLAG_OWN_REALTY'] == 'Y':\n",
        "            return 'Laborers'\n",
        "        else:\n",
        "            return 'Drivers'  # example of different occupation\n",
        "\n",
        "    # level 3: familiar status + age\n",
        "    elif row['NAME_FAMILY_STATUS'] == 'Single / not married':\n",
        "        if row['AGE_YEARS'] < 30:\n",
        "            return 'Sales staff'\n",
        "        else:\n",
        "            return 'Accountants'\n",
        "\n",
        "    # using mode for categories\n",
        "    return 'Laborers'  # La ocupación más común\n",
        "\n",
        "# 2. Aply the function\n",
        "merged_data['OCCUPATION_TYPE'] = merged_data.apply(impute_occupation, axis=1)\n",
        "\n",
        "# 3. Verify results\n",
        "print(merged_data['OCCUPATION_TYPE'].value_counts(normalize=True))"
      ],
      "metadata": {
        "colab": {
          "base_uri": "https://localhost:8080/"
        },
        "id": "kCDiJy5JNlx_",
        "outputId": "eedcc6fa-e4ae-49ff-90d2-8b181faa6b07"
      },
      "execution_count": 17,
      "outputs": [
        {
          "output_type": "stream",
          "name": "stdout",
          "text": [
            "OCCUPATION_TYPE\n",
            "Laborers                 0.243086\n",
            "Sales staff              0.153295\n",
            "Core staff               0.152783\n",
            "Managers                 0.116251\n",
            "Drivers                  0.082281\n",
            "High skill tech staff    0.061796\n",
            "Medicine staff           0.041823\n",
            "Accountants              0.036702\n",
            "Cooking staff            0.033629\n",
            "Security staff           0.024582\n",
            "Cleaning staff           0.018436\n",
            "Private service staff    0.012462\n",
            "Secretaries              0.004609\n",
            "IT staff                 0.004609\n",
            "Low-skill Laborers       0.004268\n",
            "Realty agents            0.004268\n",
            "HR staff                 0.003414\n",
            "Waiters/barmen staff     0.001707\n",
            "Name: proportion, dtype: float64\n"
          ]
        }
      ]
    },
    {
      "cell_type": "markdown",
      "source": [
        "Core Strategy: Jerarquía de reglas:\n",
        "\n",
        "Primero: Educación + Ingresos + Estado Familiar\n",
        "\n",
        "Luego: Educación + Propiedades\n",
        "\n",
        "Después: Demografía (edad + estado civil)\n",
        "\n",
        "Finalmente: Valor por defecto (moda)\n",
        "\n",
        "Ventajas:\n",
        "\n",
        "Captura relaciones complejas entre variables\n",
        "\n",
        "Más preciso que usar una sola variable\n",
        "\n",
        "Mantiene coherencia con el mundo real\n",
        "\n",
        "Variables Clave Consideradas:\n",
        "NAME_EDUCATION_TYPE: Principal predictor de nivel ocupacional\n",
        "\n",
        "AMT_INCOME_TOTAL: Diferenciar roles senior/junior\n",
        "\n",
        "NAME_FAMILY_STATUS: Solteros vs casados tienen patrones distintos\n",
        "\n",
        "FLAG_OWN_REALTY: Indicador de estabilidad económica\n",
        "\n",
        "AGE_YEARS: Experiencia laboral potencial\n",
        "\n",
        "Multivariable: Combina 5 factores\n",
        "\n",
        "Jerárquico: Decide en orden de importancia\n",
        "\n",
        "Auditable: Cada regla tiene sentido empresarial\n",
        "\n",
        "Menos sesgo: Evita asignar \"Managers\" a todos los universitarios"
      ],
      "metadata": {
        "id": "4sC2Fg1ANvdN"
      }
    },
    {
      "cell_type": "markdown",
      "source": [
        "## 2. Give us interesting insights you could find from this dataset?\n",
        "Exploratory analysis\n"
      ],
      "metadata": {
        "id": "Sq5cpLNhN0Bz"
      }
    },
    {
      "cell_type": "code",
      "source": [
        "# analyzing children or family member vs income amount"
      ],
      "metadata": {
        "id": "F-QakY0UN_QS"
      },
      "execution_count": 18,
      "outputs": []
    },
    {
      "cell_type": "code",
      "source": [
        "# Descriptive statistics\n",
        "print(merged_data[['AMT_INCOME_TOTAL', 'CNT_CHILDREN', 'CNT_FAM_MEMBERS']].describe())\n",
        "\n",
        "import matplotlib.pyplot as plt\n",
        "import seaborn as sns\n",
        "# Histogramas\n",
        "fig, axes = plt.subplots(1, 3, figsize=(15, 4))\n",
        "sns.histplot(merged_data['AMT_INCOME_TOTAL'], ax=axes[0], kde=True, bins=30).set_title(\"Income distribution\")\n",
        "sns.countplot(x='CNT_CHILDREN', data=merged_data, ax=axes[1]).set_title(\"Number of children\")\n",
        "sns.histplot(merged_data['CNT_FAM_MEMBERS'], ax=axes[2], bins=30).set_title(\"Number of family members\")\n",
        "plt.tight_layout()\n",
        "plt.show()\n"
      ],
      "metadata": {
        "colab": {
          "base_uri": "https://localhost:8080/",
          "height": 420
        },
        "id": "8SSJceEwPXv6",
        "outputId": "8c1ad62b-2501-4e76-ae16-1d87d2e6d8c7"
      },
      "execution_count": 19,
      "outputs": [
        {
          "output_type": "stream",
          "name": "stdout",
          "text": [
            "       AMT_INCOME_TOTAL  CNT_CHILDREN  CNT_FAM_MEMBERS\n",
            "count      8.449000e+03   8449.000000      8448.000000\n",
            "mean       1.940897e+05      0.397443         2.169508\n",
            "std        1.108447e+05      0.693021         0.866846\n",
            "min        3.330000e+04      0.000000         1.000000\n",
            "25%        1.260000e+05      0.000000         2.000000\n",
            "50%        1.800000e+05      0.000000         2.000000\n",
            "75%        2.250000e+05      1.000000         3.000000\n",
            "max        1.350000e+06      4.000000         6.000000\n"
          ]
        },
        {
          "output_type": "display_data",
          "data": {
            "text/plain": [
              "<Figure size 1500x400 with 3 Axes>"
            ],
            "image/png": "[encoded data removed]"
          },
          "metadata": {}
        }
      ]
    },
    {
      "cell_type": "code",
      "source": [
        "# Managing outliers in cnt_fam_members and cnt_childrens\n",
        "\n",
        "merged_data[\"CNT_CHILDREN\"].value_counts().sort_index()"
      ],
      "metadata": {
        "id": "94cvlyrUYwtD"
      },
      "execution_count": null,
      "outputs": []
    },
    {
      "cell_type": "code",
      "source": [
        "merged_data[\"CNT_FAM_MEMBERS\"].value_counts().sort_index()"
      ],
      "metadata": {
        "id": "dY45L4UZZmGG"
      },
      "execution_count": null,
      "outputs": []
    },
    {
      "cell_type": "code",
      "source": [
        "# keeping only when children are <=5 and keeping only those rows where the family size is within the top 99%,\n",
        "# removing the top 1% (most extreme and rare cases).\n",
        "\n",
        "merged_data = merged_data[\n",
        "    (merged_data[\"CNT_CHILDREN\"] <= 5) &\n",
        "    (merged_data[\"CNT_FAM_MEMBERS\"] <= np.percentile(merged_data[\"CNT_FAM_MEMBERS\"], 99))\n",
        "]"
      ],
      "metadata": {
        "id": "-jYVX2JgboKg"
      },
      "execution_count": null,
      "outputs": []
    },
    {
      "cell_type": "code",
      "source": [
        "# boxplot by category\n",
        "\n",
        "import matplotlib.pyplot as plt\n",
        "import seaborn as sns\n",
        "\n",
        "plt.figure(figsize=(10, 6))\n",
        "sns.boxplot(x='CNT_CHILDREN', y='AMT_INCOME_TOTAL', data=merged_data)\n",
        "plt.title('Income by children numbers')\n",
        "plt.show()"
      ],
      "metadata": {
        "id": "b9IxRvh1Pv7c"
      },
      "execution_count": null,
      "outputs": []
    },
    {
      "cell_type": "code",
      "source": [
        "#  quick analysys income vs delincuency\n",
        "merged_data['INCOME_GROUP'] = pd.qcut(merged_data['AMT_INCOME_TOTAL'], q=5)\n",
        "# print(\"\\ndelincuency by income quintile:\")\n",
        "# print(merged_data.groupby('INCOME_GROUP')['WORST_STATUS'].mean().sort_values())\n",
        "\n",
        "\n",
        "# 1. Filter dataset to exclude cases without hisroty (-2)\n",
        "data_hist = merged_data[merged_data['WORST_STATUS'] != -2]\n",
        "\n",
        "# 2. calculate estadistics in filtered dataset\n",
        "print(\"\\nDistribución de morosidad en casos CON historial:\")\n",
        "print(data_hist['WORST_STATUS'].value_counts(normalize=True).sort_index())\n",
        "\n",
        "# 3. Analysis for quintiles of income (excluyendo -2)\n",
        "print(\"\\nMorosidad promedio por quintil de ingreso (excluyendo sin historial):\")\n",
        "quintiles_with_historic = data_hist.groupby('INCOME_GROUP')['WORST_STATUS'].mean().sort_values(ascending=False)\n",
        "print(quintiles_with_historic)"
      ],
      "metadata": {
        "id": "WIPJhQT79Ymn"
      },
      "execution_count": null,
      "outputs": []
    },
    {
      "cell_type": "markdown",
      "source": [
        "Patrón inesperado:\n",
        "\n",
        "Los grupos de mayores ingresos muestran mayor morosidad promedio\n",
        "\n",
        "El quintil más rico tiene casi el doble de morosidad que el quintil bajo (0.0289 vs 0.0144)\n",
        "\n",
        "Relación no lineal:\n",
        "\n",
        "No existe una correlación simple \"a menor ingreso, mayor morosidad\"\n",
        "\n",
        "El quintil más pobre no es el que muestra mayor morosidad\n",
        "\n",
        "Diferencia significativa:\n",
        "\n",
        "Hay una brecha importante entre el quintil bajo (0.0144) y los demás grupos"
      ],
      "metadata": {
        "id": "zt_Vvb_Wps26"
      }
    },
    {
      "cell_type": "code",
      "source": [
        "print(\"\\nDistribución de morosidad (WORST_STATUS):\")\n",
        "print(merged_data['WORST_STATUS'].value_counts(normalize=True).sort_index())"
      ],
      "metadata": {
        "id": "liyBKsTn9syx"
      },
      "execution_count": null,
      "outputs": []
    },
    {
      "cell_type": "code",
      "source": [
        "# 92.45% has no credit status\n",
        "\n",
        "# Revisar cuántos IDs únicos hay en cada dataset\n",
        "print(f\"IDs en application: {application_df['ID'].nunique()}\")\n",
        "print(f\"IDs en credit: {credit_df['ID'].nunique()}\")\n",
        "\n",
        "# Verificar solapamiento\n",
        "common_ids = set(application_df['ID']).intersection(set(credit_df['ID']))\n",
        "print(f\"IDs comunes: {len(common_ids)}\")"
      ],
      "metadata": {
        "id": "vMGJG7quoHN1"
      },
      "execution_count": null,
      "outputs": []
    },
    {
      "cell_type": "code",
      "source": [
        "# verifico si he ehcho bien el merge\n",
        "# Verifica cómo se unieron los datos\n",
        "merge_info = pd.merge(\n",
        "    application_df[['ID']],\n",
        "    credit_df[['ID']].drop_duplicates(),\n",
        "    on='ID',\n",
        "    how='left',\n",
        "    indicator=True\n",
        ")\n",
        "\n",
        "print(merge_info['_merge'].value_counts())"
      ],
      "metadata": {
        "id": "Bkm16i9Qo1rH"
      },
      "execution_count": null,
      "outputs": []
    },
    {
      "cell_type": "code",
      "source": [
        "# create new column to identify customer with historic data and new customers\n",
        "\n",
        "merged_data['CLIENT_TYPE'] = np.where(\n",
        "    merged_data['HAS_CREDIT_HISTORY'] == 1,\n",
        "    'EXISTING',\n",
        "    'NEW'\n",
        ")\n",
        "\n",
        "# quick comparative analysis\n",
        "print(merged_data.groupby('CLIENT_TYPE')[['AMT_INCOME_TOTAL', 'AGE_YEARS', 'CNT_FAM_MEMBERS']].mean())"
      ],
      "metadata": {
        "id": "7W5Y6e1SpRC8"
      },
      "execution_count": null,
      "outputs": []
    },
    {
      "cell_type": "code",
      "source": [
        "# creating proxy variabe for new customers\n",
        "\n",
        "# 1. income to expense ratio (payment capacity)\n",
        "merged_data['INCOME_PER_MEMBER'] = merged_data['AMT_INCOME_TOTAL'] / merged_data['CNT_FAM_MEMBERS']\n",
        "\n",
        "# 2. employement stability (risk proxy)\n",
        "merged_data['EMPLOYMENT_STABILITY'] = merged_data['YEARS_EMPLOYED'] / merged_data['AGE_YEARS']\n",
        "\n",
        "# 3. risk score\n",
        "merged_data['RISK_SCORE'] = (\n",
        "    0.4 * (merged_data['AMT_INCOME_TOTAL'] / merged_data['AMT_INCOME_TOTAL'].median()) +\n",
        "    0.3 * (merged_data['AGE_YEARS'] / merged_data['AGE_YEARS'].median()) +\n",
        "    0.3 * (merged_data['EMPLOYMENT_STABILITY'] / merged_data['EMPLOYMENT_STABILITY'].median())\n",
        ")"
      ],
      "metadata": {
        "id": "ZdnI-LHD1uxG"
      },
      "execution_count": null,
      "outputs": []
    },
    {
      "cell_type": "code",
      "source": [
        "# incomes for client type\n",
        "plt.figure(figsize=(10, 6))\n",
        "sns.boxplot(\n",
        "    data=merged_data,\n",
        "    x='CLIENT_TYPE',\n",
        "    y='AMT_INCOME_TOTAL',\n",
        "    showfliers=False\n",
        ")\n",
        "plt.axhline(y=merged_data['AMT_INCOME_TOTAL'].median(),\n",
        "            color='red',\n",
        "            linestyle='--',\n",
        "            linewidth=1.5,\n",
        "            label='global median')\n",
        "plt.title('income distribution: new clients vs existing')\n",
        "plt.show()\n",
        "\n",
        "# risk for occupation (new clients only)\n",
        "plt.figure(figsize=(18, 6))\n",
        "sns.boxplot(\n",
        "    data=merged_data[merged_data['CLIENT_TYPE'] == 'NEW'],\n",
        "    x='OCCUPATION_TYPE',\n",
        "    y='RISK_SCORE',\n",
        "    showfliers=False\n",
        ")\n",
        "plt.xticks(\n",
        "    rotation=45,\n",
        "    ha='right',\n",
        "    fontsize=10\n",
        ")\n",
        "plt.yticks(fontsize=10)\n",
        "plt.title('distribution of the risk score for occupation (new clients)', fontsize=14, pad=20)\n",
        "plt.xlabel('occupation type', fontsize=12, labelpad=10)\n",
        "plt.ylabel('risk score', fontsize=12, labelpad=10)\n",
        "\n",
        "plt.tight_layout()\n",
        "plt.show()"
      ],
      "metadata": {
        "id": "eADVhrxV2nTm"
      },
      "execution_count": null,
      "outputs": []
    },
    {
      "cell_type": "markdown",
      "source": [
        "Unexpected Pattern: Higher-income groups show higher average delinquency.\n",
        "\n",
        "The richest quintile has almost twice the delinquency rate of the lowest quintile (0.0289 vs 0.0144).\n",
        "\n",
        "Non-linear Relationship: There is no simple correlation like \"lower income, higher delinquency.\"\n",
        "\n",
        "The poorest quintile is not the one with the highest delinquency.\n",
        "\n",
        "Significant Difference:\n",
        "\n",
        "There is a notable gap between the lowest quintile (0.0144) and the other groups."
      ],
      "metadata": {
        "id": "TWWCxB9dwqHn"
      }
    },
    {
      "cell_type": "code",
      "source": [
        "# risk for occupation ( clients with historic data only)\n",
        "\n",
        "plt.figure(figsize=(12, 6))\n",
        "sns.barplot(\n",
        "    data=merged_data[merged_data['HAS_CREDIT_HISTORY'] == 1],  # <-- key filter\n",
        "    x='OCCUPATION_TYPE',\n",
        "    y='WORST_STATUS',\n",
        "    estimator=lambda x: (x >= 2).mean() * 100,  # % high delicnuency\n",
        "    palette=\"RdYlGn_r\"  # Red (high risk) -> Green (low risk)\n",
        ")\n",
        "plt.xticks(rotation=45, ha='right')\n",
        "plt.title(\"% Morosidad Grave por Ocupación (Clientes con Historial)\", fontsize=14)\n",
        "plt.ylabel(\"% Morosidad (60+ días atraso)\")\n",
        "plt.grid(axis='y', alpha=0.3)\n",
        "plt.tight_layout()\n",
        "plt.show()"
      ],
      "metadata": {
        "id": "-8zlaYIo8mRX"
      },
      "execution_count": null,
      "outputs": []
    },
    {
      "cell_type": "markdown",
      "source": [
        "Interpretation\n",
        "High values (longer bars) = Higher percentage of delinquent customers in that occupation.\n",
        "\n",
        "Low values (shorter bars) = Lower delinquency rate.\n",
        "\n",
        "Color palette (RdYlGn_r):\n",
        "\n",
        "Red → Higher risk (more delinquency)\n",
        "\n",
        "Green → Lower risk (less delinquency)\n",
        "(The _r suffix means the palette is reversed from its default order.)\n",
        "\n",
        "Why some red bars might be shorter:\n",
        "This happens when an occupation has:\n",
        "\n",
        "Few cases (small sample size) but a high delinquency rate (hence the red color).\n",
        "\n",
        "Compared to occupations with:\n",
        "\n",
        "Many more cases (longer bars) but a lower delinquency rate (green).\n",
        "\n",
        "\n",
        "\n"
      ],
      "metadata": {
        "id": "ZDCbqVdl9d1m"
      }
    },
    {
      "cell_type": "code",
      "source": [
        "\n",
        "\n",
        "#delete flag mobil as is irrilevant\n",
        "merged_data.drop('FLAG_MOBIL', axis=1, inplace=True)\n",
        "\n",
        "# 1. correlation between numeric variables\n",
        "plt.figure(figsize=(10, 8))\n",
        "sns.heatmap(merged_data.select_dtypes(include=['number']).corr(),\n",
        "            annot=True,\n",
        "            cmap='coolwarm',\n",
        "            fmt=\".2f\")\n",
        "plt.title('Matriz de Correlación')\n",
        "plt.show()\n",
        "\n",
        "# 2. distribution by age for client type\n",
        "sns.displot(data=merged_data,\n",
        "            x='AGE_YEARS',\n",
        "            hue='CLIENT_TYPE',\n",
        "            kind='kde',\n",
        "            height=6,\n",
        "            aspect=1.5)\n",
        "plt.title('Distribución de Edades')\n",
        "plt.show()"
      ],
      "metadata": {
        "id": "GiulHJaQ3MKW"
      },
      "execution_count": null,
      "outputs": []
    },
    {
      "cell_type": "code",
      "source": [
        "correlation_matrix = merged_data.select_dtypes(include=['number']).corr()\n",
        "\n",
        "# Mostrar la matriz de correlación\n",
        "print(correlation_matrix)"
      ],
      "metadata": {
        "collapsed": true,
        "id": "HdYwb_M6oTzN"
      },
      "execution_count": null,
      "outputs": []
    },
    {
      "cell_type": "code",
      "source": [],
      "metadata": {
        "id": "Hjztn39BxY7L"
      },
      "execution_count": null,
      "outputs": []
    },
    {
      "cell_type": "markdown",
      "source": [
        "# 3. Suggest whom should get credit card and how to decrease the risk?"
      ],
      "metadata": {
        "id": "gyYiausC_fME"
      }
    },
    {
      "cell_type": "code",
      "source": [
        "# creating new df for client with historic data only\n",
        "\n",
        "df_hist = merged_data[merged_data['WORST_STATUS'] != -2].copy()"
      ],
      "metadata": {
        "id": "epgLsh4p55TP"
      },
      "execution_count": null,
      "outputs": []
    },
    {
      "cell_type": "code",
      "source": [
        "# creating binary target: 0 good payer, 1 bad payer\n",
        "\n",
        "df_hist['target'] = df_hist['WORST_STATUS'].apply(lambda x: 1 if x >= 2 else 0)\n"
      ],
      "metadata": {
        "id": "BQ--IWc-GEl_"
      },
      "execution_count": null,
      "outputs": []
    },
    {
      "cell_type": "code",
      "source": [
        "df_hist['target'].value_counts()\n"
      ],
      "metadata": {
        "id": "hJtxlTXdGg8W"
      },
      "execution_count": null,
      "outputs": []
    },
    {
      "cell_type": "code",
      "source": [
        "# groups are unbalanced so I will proceed with an hybrid approach to define the target\n",
        "\n",
        "# Define target\n",
        "merged_data['TARGET'] = np.where(\n",
        "    merged_data['HAS_CREDIT_HISTORY'] == 1,\n",
        "    (merged_data['WORST_STATUS'] >= 2).astype(int),  # Clientes existentes\n",
        "    (merged_data['RISK_SCORE'] > merged_data['RISK_SCORE'].quantile(0.75)).astype(int)  # Clientes nuevos\n",
        ")\n",
        "\n",
        "# Verify distribution\n",
        "print(merged_data['TARGET'].value_counts(normalize=True))\n"
      ],
      "metadata": {
        "id": "jYNzEjm7GkGZ"
      },
      "execution_count": null,
      "outputs": []
    },
    {
      "cell_type": "markdown",
      "source": [
        "#### *1.Definition of the Target (Objective Variable)\n",
        "Hybrid Approach (Combines the best of the two options we discussed):\n",
        "\n",
        "For clients with credit history (EXISTING):\n",
        "\n",
        "TARGET = 1 if WORST_STATUS ≥ 2 (serious delinquency → DO NOT approve).\n",
        "\n",
        "TARGET = 0 if WORST_STATUS < 2 (good payer → APPROVE).\n",
        "\n",
        "For new clients (NEW):\n",
        "\n",
        "Use your RISK_SCORE to define a risk threshold:\n",
        "\n",
        "If RISK_SCORE > 75th percentile → TARGET = 1 (high risk → DO NOT approve).\n",
        "\n",
        "If RISK_SCORE ≤ 75th percentile → TARGET = 0 (acceptable risk → APPROVE)."
      ],
      "metadata": {
        "id": "nSUAwZUFMxeT"
      }
    },
    {
      "cell_type": "code",
      "source": [
        "from sklearn.pipeline import Pipeline\n",
        "from sklearn.preprocessing import StandardScaler, OneHotEncoder\n",
        "from sklearn.compose import ColumnTransformer\n",
        "from sklearn.ensemble import RandomForestClassifier"
      ],
      "metadata": {
        "id": "vz9hHOJ4MtTm"
      },
      "execution_count": null,
      "outputs": []
    },
    {
      "cell_type": "code",
      "source": [
        "# 1. Define variables\n",
        "numeric_features = ['AGE_YEARS', 'AMT_INCOME_TOTAL', 'INCOME_PER_MEMBER', 'EMPLOYMENT_STABILITY']\n",
        "categorical_features = ['OCCUPATION_TYPE', 'NAME_EDUCATION_TYPE']"
      ],
      "metadata": {
        "id": "QR8RQKNZMxLS"
      },
      "execution_count": null,
      "outputs": []
    },
    {
      "cell_type": "code",
      "source": [
        "# 2. Preprocessing\n",
        "preprocessor = ColumnTransformer(\n",
        "    transformers=[\n",
        "        ('num', StandardScaler(), numeric_features),\n",
        "        ('cat', OneHotEncoder(handle_unknown='ignore'), categorical_features)\n",
        "    ])"
      ],
      "metadata": {
        "id": "jddOjGadMxBs"
      },
      "execution_count": null,
      "outputs": []
    },
    {
      "cell_type": "code",
      "source": [
        "# 3. Pipeline complete\n",
        "model = Pipeline(steps=[\n",
        "    ('preprocessor', preprocessor),\n",
        "    ('classifier', RandomForestClassifier(\n",
        "        class_weight='balanced',  # Maneja desbalance\n",
        "        random_state=42\n",
        "    ))\n",
        "])"
      ],
      "metadata": {
        "id": "cVRNsMkQQxoL"
      },
      "execution_count": null,
      "outputs": []
    },
    {
      "cell_type": "code",
      "source": [
        "# 4. Train (only with existing clients)\n",
        "X_train = merged_data[merged_data['HAS_CREDIT_HISTORY'] == 1][numeric_features + categorical_features]\n",
        "y_train = merged_data[merged_data['HAS_CREDIT_HISTORY'] == 1]['TARGET']\n",
        "model.fit(X_train, y_train)"
      ],
      "metadata": {
        "id": "e06-7ZHGQz0B"
      },
      "execution_count": null,
      "outputs": []
    },
    {
      "cell_type": "code",
      "source": [
        "missing_info = merged_data[numeric_features + categorical_features].isnull().sum()\n",
        "missing_info = missing_info[missing_info > 0].sort_values(ascending=False)\n",
        "\n",
        "print(\"Clumns with missing values:\")\n",
        "print(missing_info)"
      ],
      "metadata": {
        "id": "aL_jgU-wQ2l3"
      },
      "execution_count": null,
      "outputs": []
    },
    {
      "cell_type": "code",
      "source": [
        "total_rows = merged_data.shape[0]\n",
        "faltantes = merged_data['EMPLOYMENT_STABILITY'].isnull().sum()\n",
        "print(f\"Faltan {faltantes} valores ({faltantes / total_rows:.2%})\")"
      ],
      "metadata": {
        "id": "Fa8Ni_9RSIw5"
      },
      "execution_count": null,
      "outputs": []
    },
    {
      "cell_type": "code",
      "source": [
        "merged_data[merged_data['EMPLOYMENT_STABILITY'].isnull()]['HAS_CREDIT_HISTORY'].value_counts()\n"
      ],
      "metadata": {
        "id": "116SbIT2SPTh"
      },
      "execution_count": null,
      "outputs": []
    },
    {
      "cell_type": "code",
      "source": [
        "X_train.isnull().sum()"
      ],
      "metadata": {
        "id": "7PmQJeTISVo2"
      },
      "execution_count": null,
      "outputs": []
    },
    {
      "cell_type": "code",
      "source": [],
      "metadata": {
        "id": "zI1QzSEYqWXt"
      },
      "execution_count": null,
      "outputs": []
    },
    {
      "cell_type": "code",
      "source": [
        "merged_data['EMPLOYMENT_STABILITY'] = merged_data['EMPLOYMENT_STABILITY'].fillna(0)\n",
        "# Business logic: A 0 in job stability indicates individuals with no experience or recently hired.\n"
      ],
      "metadata": {
        "id": "Va_cDcdaTM7g"
      },
      "execution_count": null,
      "outputs": []
    },
    {
      "cell_type": "code",
      "source": [
        "# 4. Train (only with existing clients)\n",
        "X_train = merged_data[merged_data['HAS_CREDIT_HISTORY'] == 1][numeric_features + categorical_features]\n",
        "y_train = merged_data[merged_data['HAS_CREDIT_HISTORY'] == 1]['TARGET']\n",
        "model.fit(X_train, y_train)"
      ],
      "metadata": {
        "id": "233mczZVUBep"
      },
      "execution_count": null,
      "outputs": []
    },
    {
      "cell_type": "code",
      "source": [
        "print(merged_data['DAYS_BIRTH'].isnull().sum())"
      ],
      "metadata": {
        "id": "Czi51665UGap"
      },
      "execution_count": null,
      "outputs": []
    },
    {
      "cell_type": "code",
      "source": [
        "# preprocessing data for new clients (same features)\n",
        "X_new = merged_data[merged_data['HAS_CREDIT_HISTORY'] == 0][numeric_features + categorical_features]\n",
        "\n",
        "# Predict risk probabilities (adjust threshold later)\n",
        "new_clients_proba = model.predict_proba(X_new)[:, 1]  # Probabilidad de ser moroso (clase 1)"
      ],
      "metadata": {
        "id": "AR8IJluRUZDE"
      },
      "execution_count": null,
      "outputs": []
    },
    {
      "cell_type": "code",
      "source": [
        "# EVALUATION OF MY MODEL\n",
        "#  1. split into test y train\n",
        "\n",
        "from sklearn.metrics import classification_report, roc_auc_score\n",
        "\n",
        "from sklearn.model_selection import train_test_split\n",
        "X_train, X_test, y_train, y_test = train_test_split(\n",
        "    merged_data[merged_data['HAS_CREDIT_HISTORY'] == 1][numeric_features + categorical_features],\n",
        "    merged_data[merged_data['HAS_CREDIT_HISTORY'] == 1]['TARGET'],\n",
        "    test_size=0.3,\n",
        "    stratify=merged_data[merged_data['HAS_CREDIT_HISTORY'] == 1]['TARGET'],\n",
        "    random_state=42\n",
        ")\n",
        "\n"
      ],
      "metadata": {
        "id": "ZVD9xHC6exAi"
      },
      "execution_count": null,
      "outputs": []
    },
    {
      "cell_type": "code",
      "source": [
        "# 2. training and evaluate\n",
        "\n",
        "# Adjust class_weight and train (the classes are highly imbalanced for direct training)\n",
        "\n",
        "from sklearn.ensemble import RandomForestClassifier\n",
        "from sklearn.pipeline import Pipeline\n",
        "from sklearn.compose import ColumnTransformer\n",
        "from sklearn.preprocessing import StandardScaler, OneHotEncoder\n",
        "\n",
        "# 1. Define variables\n",
        "numeric_features = ['AGE_YEARS', 'AMT_INCOME_TOTAL', 'INCOME_PER_MEMBER', 'EMPLOYMENT_STABILITY','FLAG_OWN_CAR', 'FLAG_OWN_REALTY']\n",
        "categorical_features = ['OCCUPATION_TYPE', 'NAME_EDUCATION_TYPE']\n",
        "\n",
        "# 2. Preprocessing\n",
        "preprocessor = ColumnTransformer(\n",
        "    transformers=[\n",
        "        ('num', StandardScaler(), numeric_features),\n",
        "        ('cat', OneHotEncoder(handle_unknown='ignore'), categorical_features)\n",
        "    ]\n",
        ")\n",
        "\n",
        "# 3. Crear pipeline with class_weight adjusted\n",
        "model = Pipeline(steps=[\n",
        "    ('preprocessor', preprocessor),\n",
        "    ('classifier', RandomForestClassifier(\n",
        "        class_weight={0: 1, 1: 10},  # Aumentamos la penalización a clase minoritaria\n",
        "        random_state=42\n",
        "    ))\n",
        "])\n",
        "\n",
        "# 4. Train model\n",
        "X_train = merged_data[merged_data['HAS_CREDIT_HISTORY'] == 1][numeric_features + categorical_features]\n",
        "y_train = merged_data[merged_data['HAS_CREDIT_HISTORY'] == 1]['TARGET']\n",
        "model.fit(X_train, y_train)\n"
      ],
      "metadata": {
        "id": "xyAMJ3nFfAu2"
      },
      "execution_count": null,
      "outputs": []
    },
    {
      "cell_type": "code",
      "source": [
        "# validate\n",
        "\n",
        "X_test = merged_data[merged_data['HAS_CREDIT_HISTORY'] == 1][numeric_features + categorical_features].sample(10000, random_state=42)\n",
        "y_test = merged_data.loc[X_test.index, 'TARGET']\n",
        "\n",
        "# Predect probabilities\n",
        "y_proba = model.predict_proba(X_test)[:, 1]"
      ],
      "metadata": {
        "id": "to9bD4x_f71G"
      },
      "execution_count": null,
      "outputs": []
    },
    {
      "cell_type": "code",
      "source": [
        "#search for best threesold\n",
        "\n",
        "from sklearn.metrics import precision_recall_curve, classification_report\n",
        "\n",
        "# search thresholds\n",
        "precisions, recalls, thresholds = precision_recall_curve(y_test, y_proba)\n",
        "\n",
        "# threesold with recall >= 0.7 and best precision\n",
        "candidates = [(p, r, t) for p, r, t in zip(precisions, recalls, thresholds) if r >= 0.7]\n",
        "if candidates:\n",
        "    best = max(candidates, key=lambda x: x[0])  # best precision with recall >= 0.7\n",
        "    best_precision, best_recall, best_threshold = best\n",
        "    print(f\"Umbral óptimo: {best_threshold:.3f} | Precision: {best_precision:.2f} | Recall: {best_recall:.2f}\")\n",
        "else:\n",
        "    print(\"No se encontró umbral con recall >= 0.7\")\n",
        "\n",
        "# Re-predect with this threesold\n",
        "y_pred_optimal = (y_proba >= best_threshold).astype(int)\n",
        "\n",
        "# see result\n",
        "print(classification_report(y_test, y_pred_optimal))"
      ],
      "metadata": {
        "id": "DYREJqRMfVm8"
      },
      "execution_count": null,
      "outputs": []
    },
    {
      "cell_type": "markdown",
      "source": [
        "Precision: For class 1 (clients who are approved for the card), you have a precision of 0.63, which means that 63% of the clients your model classified as approved actually should have been approved. This is reasonable for an imbalanced case, where only 1.9% of the samples belong to class 1.\n",
        "\n",
        "Recall: A recall of 0.71 for class 1 means that 71% of the clients who truly should have been approved were correctly identified by the model. This is a good recall, since the positive class is small and it's important not to miss good candidates.\n",
        "\n",
        "F1-Score: The F1 score of 0.67 is a combination of precision and recall for class 1, which is quite good—especially in imbalanced contexts.\n",
        "\n",
        "Accuracy: The overall accuracy is 0.99, indicating that the model is correct in most predictions. However, this metric isn't always meaningful in imbalanced situations, as it can be biased toward the majority class (0 in this case). Despite this, the strong recall and precision for class 1 suggest the model is performing well.\n",
        "\n",
        "Macro average: A precision of 0.81 and recall of 0.85 reflect overall performance across both classes. For a model dealing with significant imbalance, these values are quite positive.\n",
        "\n",
        "Weighted average: The 0.99 metrics show that the model performs extremely well for the majority class (almost perfectly), as expected, but also indicate that it’s not neglecting the minority class (1)."
      ],
      "metadata": {
        "id": "-lpFZfjEj10W"
      }
    },
    {
      "cell_type": "code",
      "source": [
        "# Cross-validation to ensure the results hold across different splits.\n",
        "\n",
        "# 1. StratifiedKFold to ensure a similar proportion of class 0 and 1 in each fold.\n",
        "\n",
        "# 2. cross_validate to compute multiple metrics (precision, recall, f1).\n",
        "\n",
        "# 3. Use the same pipeline (model) you already have, with adjusted class_weight..\n",
        "\n",
        "from sklearn.model_selection import StratifiedKFold, cross_validate\n",
        "\n",
        "# 1. Data\n",
        "X = merged_data[merged_data['HAS_CREDIT_HISTORY'] == 1][numeric_features + categorical_features]\n",
        "y = merged_data[merged_data['HAS_CREDIT_HISTORY'] == 1]['TARGET']\n",
        "\n",
        "# 2. Stratified cross validation\n",
        "cv = StratifiedKFold(n_splits=5, shuffle=True, random_state=42)\n",
        "\n",
        "# 3. Execute cross validation\n",
        "scoring = ['precision', 'recall', 'f1', 'roc_auc']\n",
        "cv_results = cross_validate(model, X, y, cv=cv, scoring=scoring)\n",
        "\n",
        "# 4. Results\n",
        "for metric in scoring:\n",
        "    scores = cv_results[f'test_{metric}']\n",
        "    print(f\"{metric}: {scores.mean():.3f} ± {scores.std():.3f}\")"
      ],
      "metadata": {
        "id": "fUy-j6-LjkTU"
      },
      "execution_count": null,
      "outputs": []
    },
    {
      "cell_type": "code",
      "source": [
        "# Algorithm for new clients"
      ],
      "metadata": {
        "id": "SjVuE-zk5aA4"
      },
      "execution_count": null,
      "outputs": []
    },
    {
      "cell_type": "code",
      "source": [
        "def approve_credit(client_data, model, preprocessor):\n",
        "    \"\"\"\n",
        "    Versión corregida que selecciona solo las features necesarias\n",
        "    \"\"\"\n",
        "    try:\n",
        "        # 1. Select only the features expected by the model\n",
        "        required_features = numeric_features + categorical_features\n",
        "        client_data_subset = client_data[required_features].copy()\n",
        "\n",
        "        # 2. Validate that no features are missings\n",
        "        missing_features = set(required_features) - set(client_data.columns)\n",
        "        if missing_features:\n",
        "            raise ValueError(f\"Faltan features requeridas: {missing_features}\")\n",
        "\n",
        "        # 3. Preprocessing and prediction\n",
        "        client_processed = preprocessor.transform(client_data_subset)\n",
        "        proba = model.predict_proba(client_processed)[0, 1]\n",
        "\n",
        "        # 4. Make a decision\n",
        "        decision = \"REJECT\" if proba >= FINAL_THRESHOLD else \"APPROVE\"\n",
        "\n",
        "        return {\n",
        "            \"decision\": decision,\n",
        "            \"risk_probability\": float(round(proba, 4)),\n",
        "            \"threshold\": float(FINAL_THRESHOLD),\n",
        "            \"used_features\": required_features\n",
        "        }\n",
        "\n",
        "    except Exception as e:\n",
        "        return {\n",
        "            \"error\": str(e),\n",
        "            \"decision\": \"MANUAL_REVIEW\",\n",
        "            \"details\": \"Processing error – manual review required\"\n",
        "        }"
      ],
      "metadata": {
        "id": "TsrCDkPzyi7H"
      },
      "execution_count": null,
      "outputs": []
    },
    {
      "cell_type": "markdown",
      "source": [
        "# Correct usage example:\n",
        "Assuming that raw_client_data is a DataFrame with all your fields:\n",
        "\n",
        "Create a DataFrame with only the necessary features\n",
        "\n",
        "client_sample = raw_client_data.iloc[[0]][numeric_features + categorical_features]\n",
        "\n",
        "\n",
        "Call the function\n",
        "\n",
        "result = approve_credit(client_sample, model, preprocessor)\n",
        "print(result)\n"
      ],
      "metadata": {
        "id": "tDOkZ19S6QxP"
      }
    },
    {
      "cell_type": "code",
      "source": [],
      "metadata": {
        "id": "hqpKmMQy5ye8"
      },
      "execution_count": null,
      "outputs": []
    }
  ]
}